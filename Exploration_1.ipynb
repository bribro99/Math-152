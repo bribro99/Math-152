{
  "nbformat": 4,
  "nbformat_minor": 0,
  "metadata": {
    "colab": {
      "name": "Exploration 1",
      "provenance": [],
      "collapsed_sections": [],
      "include_colab_link": true
    },
    "kernelspec": {
      "display_name": "Python 3",
      "name": "python3"
    }
  },
  "cells": [
    {
      "cell_type": "markdown",
      "metadata": {
        "id": "view-in-github",
        "colab_type": "text"
      },
      "source": [
        "<a href=\"https://colab.research.google.com/github/bribro99/Math-152/blob/main/Exploration_1.ipynb\" target=\"_parent\"><img src=\"https://colab.research.google.com/assets/colab-badge.svg\" alt=\"Open In Colab\"/></a>"
      ]
    },
    {
      "cell_type": "markdown",
      "metadata": {
        "id": "4-ZeWKQ3NjI1"
      },
      "source": [
        "#Exploration of the 3n+1 Conjecture\r\n",
        "##By Aaron, Eric Huang, Brian Milne, Ethan Alon, Yuelian Li. \r\n",
        "\r\n",
        "\r\n"
      ]
    },
    {
      "cell_type": "markdown",
      "metadata": {
        "id": "u5xWjn1MQGuO"
      },
      "source": [
        "### Introduction\r\n",
        "In this exploration we will be working with the 3n+1 conjecture, also known as the Collatz conjecture, to see how different numbers behave with this conjecture. The conjecture says that for a positive starting value n we can calculate the next value in an infinite sequence such that the sequence ends in a cycle {4, 2, 1}, where we divide by 2 if n is even, or substitute n with 3n+1 if n is odd. In the case n=3, this sequence can be denoted as {3, 10, 5, 16, 8, 4, 2, 1, ...} where the cycle {4, 2, 1} repeats infinitely many times at the end of the sequence since 4 comes up in the sequence again after 1.Thus the conjecture holds for n=3. The process for calculating terms in the sequence is represented by the code below for start of the sequence n where the sequence terminates when n=1 since the rest of the sequence will consist of the cycle {4, 2, 1} repeated infinitely many times.  "
      ]
    },
    {
      "cell_type": "code",
      "metadata": {
        "id": "efUvi3NW7Wbu"
      },
      "source": [
        "def efficient_collatz(n):\n",
        "  '''\n",
        "  The modified_collatz function below is pretty inefficient because there are lots of intermediate steps for each calculation.\n",
        "  This is about as efficient as I think the usual collatz function can get, but if someone has a better idea, feel free to put it in.\n",
        "  '''\n",
        "  while n > 1:\n",
        "    if n %2 == 0:\n",
        "      n = n//2\n",
        "    else:\n",
        "      n = 3*n + 1\n",
        "  return True\n",
        "  "
      ],
      "execution_count": null,
      "outputs": []
    },
    {
      "cell_type": "markdown",
      "metadata": {
        "id": "NcpcDIzf23ir"
      },
      "source": [
        "Now we will test to see if the conjecture holds up to a substantially large number, say n=1000000."
      ]
    },
    {
      "cell_type": "code",
      "metadata": {
        "colab": {
          "base_uri": "https://localhost:8080/"
        },
        "id": "TmPTqARYhbxZ",
        "outputId": "698e142b-8197-46a5-fa87-3f29e1256ae5"
      },
      "source": [
        "i = 1\n",
        "max_tested = 1000000\n",
        "while i < max_tested: # Test all starting values between 1 and max_tested to see if they eventually reach 1\n",
        "  if efficient_collatz(i):\n",
        "    i = i + 1\n",
        "print(i) #Should be the same as max_tested, which verifies the Collatz conjecture for all starting values less than max_tested."
      ],
      "execution_count": null,
      "outputs": [
        {
          "output_type": "stream",
          "text": [
            "1000000\n"
          ],
          "name": "stdout"
        }
      ]
    },
    {
      "cell_type": "markdown",
      "metadata": {
        "id": "SaIMVyeh3Xoi"
      },
      "source": [
        "Since our output i=1000000=max_tested it follows that every positive integer n up to a million satisfies the Collatz conjecture that the sequence ends in the cycle {4, 2, 1}. This is the case since the function efficient_collatz ends whenever the value i=1 appears in the sequence, satisfying the collatz conjecture. Once that is the case i increases by 1 to test if the conjecture holds for our next term i=i+1. Therefore since our output is the same as max_tested, it follows that every positive integer up to n will satisfy the collatz conjecture."
      ]
    },
    {
      "cell_type": "markdown",
      "metadata": {
        "id": "Xj6e8V1mg6Kc"
      },
      "source": [
        "##Analyzing Negative and Non-natural Numbers## "
      ]
    },
    {
      "cell_type": "markdown",
      "metadata": {
        "id": "YZi2lu2s0i-E"
      },
      "source": [
        "The Collatz Conjecture is primarily defined for the natural, positive integers. When testing the rules of the Collatz Conjecture on non-natural numbers, the expected cycle is not held."
      ]
    },
    {
      "cell_type": "markdown",
      "metadata": {
        "id": "6alP3iL1zv8G"
      },
      "source": [
        "\r\n",
        "####Definition: Non-natural Numbers####\r\n",
        "In this case, define the natural numbers to be the set of positive integers. Therefore, the set of non-natural numbers is the set of negative integers, and zero. "
      ]
    },
    {
      "cell_type": "markdown",
      "metadata": {
        "id": "zADGRltR0VUV"
      },
      "source": [
        "By observation, the non-natural numbers follow four distinct cycles. It is so far impossible to prove whether or not there exist others. "
      ]
    },
    {
      "cell_type": "markdown",
      "metadata": {
        "id": "-HMdszXPiO-v"
      },
      "source": [
        "###The Collatz Conjecture for Zero###"
      ]
    },
    {
      "cell_type": "markdown",
      "metadata": {
        "id": "e_Fau3OM08sh"
      },
      "source": [
        "The Collatz Conjecture starting at 0 has its own unique cycle. \r\n",
        "\r\n",
        "In fact, since $0\\equiv 0 \\pmod 2$ and $0=0/2$, we can guarantee that the cycle not only starts at 0, but only includes 0. \r\n",
        "\r\n",
        "$0 \\rightarrow 0 \\rightarrow 0 \\rightarrow 0 \\rightarrow 0 \\cdots$"
      ]
    },
    {
      "cell_type": "markdown",
      "metadata": {
        "id": "ksDr7C1kiMmo"
      },
      "source": [
        "###The Collatz Conjecture for Negative Integers###"
      ]
    },
    {
      "cell_type": "markdown",
      "metadata": {
        "id": "ynwFHAwdid_P"
      },
      "source": [
        "Our team found that there exist at least three more cycles when using negative integers. They were as follows:\r\n",
        "\r\n",
        "* $-1  \\rightarrow -2  \\rightarrow -1  \\rightarrow -2  \\rightarrow 1 \\cdots$\r\n",
        "* $-5  \\rightarrow -14  \\rightarrow -7  \\rightarrow -20  \\rightarrow 10 \\rightarrow -5\\cdots$\r\n",
        "* $-17  \\rightarrow -50 \\rightarrow -25  \\rightarrow -74  \\rightarrow -37 \\rightarrow -110  \\rightarrow -55 \\rightarrow -164 \\rightarrow -82 \\rightarrow -41 \\rightarrow -122 \\rightarrow -61 \\rightarrow -182 \\rightarrow -91 \\rightarrow -272 \\rightarrow -136 \\rightarrow -68 \\rightarrow -34 \\rightarrow -17 \\cdots$"
      ]
    },
    {
      "cell_type": "markdown",
      "metadata": {
        "id": "_EcIX_fZnVGA"
      },
      "source": [
        "Below are some examples of values of n that can produce these sequences."
      ]
    },
    {
      "cell_type": "markdown",
      "metadata": {
        "id": "OLYGch9ko_SQ"
      },
      "source": [
        "The -1 Cycle:"
      ]
    },
    {
      "cell_type": "code",
      "metadata": {
        "colab": {
          "base_uri": "https://localhost:8080/"
        },
        "id": "j9vvXiX-od_n",
        "outputId": "63b4849c-8415-420a-d07e-6456575c947e"
      },
      "source": [
        "collatz(-1)"
      ],
      "execution_count": null,
      "outputs": [
        {
          "output_type": "stream",
          "text": [
            "-1 -2 -1 -2 -1 -2 -1 -2 -1 -2 -1 -2 -1 -2 -1 -2 -1 -2 -1 -2 -1 -2 -1 -2 -1 -2 -1 -2 -1 -2 -1 -2 -1 -2 -1 -2 -1 -2 -1 -2 -1 -2 -1 -2 -1 -2 -1 -2 -1 -2 -1 -2 -1 -2 -1 -2 -1 -2 -1 -2 -1 -2 -1 -2 -1 -2 -1 -2 -1 -2 -1 -2 -1 -2 -1 -2 -1 -2 -1 -2 -1 -2 -1 -2 -1 -2 -1 -2 -1 -2 -1 -2 -1 -2 -1 -2 -1 -2 -1 -2 \n"
          ],
          "name": "stdout"
        }
      ]
    },
    {
      "cell_type": "code",
      "metadata": {
        "colab": {
          "base_uri": "https://localhost:8080/"
        },
        "id": "YYOYJOobo5jd",
        "outputId": "e87d9f1a-4c9f-4a6d-eb32-5b216054bd23"
      },
      "source": [
        "collatz(-11)"
      ],
      "execution_count": null,
      "outputs": [
        {
          "output_type": "stream",
          "text": [
            "-11 -32 -16 -8 -4 -2 -1 -2 -1 -2 -1 -2 -1 -2 -1 -2 -1 -2 -1 -2 -1 -2 -1 -2 -1 -2 -1 -2 -1 -2 -1 -2 -1 -2 -1 -2 -1 -2 -1 -2 -1 -2 -1 -2 -1 -2 -1 -2 -1 -2 -1 -2 -1 -2 -1 -2 -1 -2 -1 -2 -1 -2 -1 -2 -1 -2 -1 -2 -1 -2 -1 -2 -1 -2 -1 -2 -1 -2 -1 -2 -1 -2 -1 -2 -1 -2 -1 -2 -1 -2 -1 -2 -1 -2 -1 -2 -1 -2 -1 -2 \n"
          ],
          "name": "stdout"
        }
      ]
    },
    {
      "cell_type": "markdown",
      "metadata": {
        "id": "CQPwROkWpail"
      },
      "source": [
        "The -5 Cycle:"
      ]
    },
    {
      "cell_type": "code",
      "metadata": {
        "colab": {
          "base_uri": "https://localhost:8080/"
        },
        "id": "IvtVJsobnaYl",
        "outputId": "d071422b-d672-4c55-9118-8b98d80c24c3"
      },
      "source": [
        "collatz(-5)"
      ],
      "execution_count": null,
      "outputs": [
        {
          "output_type": "stream",
          "text": [
            "-5 -14 -7 -20 -10 -5 -14 -7 -20 -10 -5 -14 -7 -20 -10 -5 -14 -7 -20 -10 -5 -14 -7 -20 -10 -5 -14 -7 -20 -10 -5 -14 -7 -20 -10 -5 -14 -7 -20 -10 -5 -14 -7 -20 -10 -5 -14 -7 -20 -10 -5 -14 -7 -20 -10 -5 -14 -7 -20 -10 -5 -14 -7 -20 -10 -5 -14 -7 -20 -10 -5 -14 -7 -20 -10 -5 -14 -7 -20 -10 -5 -14 -7 -20 -10 -5 -14 -7 -20 -10 -5 -14 -7 -20 -10 -5 -14 -7 -20 -10 \n"
          ],
          "name": "stdout"
        }
      ]
    },
    {
      "cell_type": "code",
      "metadata": {
        "colab": {
          "base_uri": "https://localhost:8080/"
        },
        "id": "Jd588IwFofrc",
        "outputId": "3cca4335-f266-42a8-b648-26f5f067e5e2"
      },
      "source": [
        "collatz(-25434)"
      ],
      "execution_count": null,
      "outputs": [
        {
          "output_type": "stream",
          "text": [
            "-25434 -12717 -38150 -19075 -57224 -28612 -14306 -7153 -21458 -10729 -32186 -16093 -48278 -24139 -72416 -36208 -18104 -9052 -4526 -2263 -6788 -3394 -1697 -5090 -2545 -7634 -3817 -11450 -5725 -17174 -8587 -25760 -12880 -6440 -3220 -1610 -805 -2414 -1207 -3620 -1810 -905 -2714 -1357 -4070 -2035 -6104 -3052 -1526 -763 -2288 -1144 -572 -286 -143 -428 -214 -107 -320 -160 -80 -40 -20 -10 -5 -14 -7 -20 -10 -5 -14 -7 -20 -10 -5 -14 -7 -20 -10 -5 -14 -7 -20 -10 -5 -14 -7 -20 -10 -5 -14 -7 -20 -10 -5 -14 -7 -20 -10 -5 \n"
          ],
          "name": "stdout"
        }
      ]
    },
    {
      "cell_type": "markdown",
      "metadata": {
        "id": "aCQPOgVVphuN"
      },
      "source": [
        "The -17 Cycle"
      ]
    },
    {
      "cell_type": "code",
      "metadata": {
        "colab": {
          "base_uri": "https://localhost:8080/"
        },
        "id": "r9OaNWbWnlgG",
        "outputId": "7fc1d3e1-8394-43cb-ec63-94216f28b35b"
      },
      "source": [
        "collatz(-17)"
      ],
      "execution_count": null,
      "outputs": [
        {
          "output_type": "stream",
          "text": [
            "-17 -50 -25 -74 -37 -110 -55 -164 -82 -41 -122 -61 -182 -91 -272 -136 -68 -34 -17 -50 -25 -74 -37 -110 -55 -164 -82 -41 -122 -61 -182 -91 -272 -136 -68 -34 -17 -50 -25 -74 -37 -110 -55 -164 -82 -41 -122 -61 -182 -91 -272 -136 -68 -34 -17 -50 -25 -74 -37 -110 -55 -164 -82 -41 -122 -61 -182 -91 -272 -136 -68 -34 -17 -50 -25 -74 -37 -110 -55 -164 -82 -41 -122 -61 -182 -91 -272 -136 -68 -34 -17 -50 -25 -74 -37 -110 -55 -164 -82 -41 \n"
          ],
          "name": "stdout"
        }
      ]
    },
    {
      "cell_type": "code",
      "metadata": {
        "colab": {
          "base_uri": "https://localhost:8080/"
        },
        "id": "ZIvTOmCLp6T7",
        "outputId": "1aaa2e57-7786-4e66-ed29-70a014a1f298"
      },
      "source": [
        "collatz(-123)"
      ],
      "execution_count": null,
      "outputs": [
        {
          "output_type": "stream",
          "text": [
            "-123 -368 -184 -92 -46 -23 -68 -34 -17 -50 -25 -74 -37 -110 -55 -164 -82 -41 -122 -61 -182 -91 -272 -136 -68 -34 -17 -50 -25 -74 -37 -110 -55 -164 -82 -41 -122 -61 -182 -91 -272 -136 -68 -34 -17 -50 -25 -74 -37 -110 -55 -164 -82 -41 -122 -61 -182 -91 -272 -136 -68 -34 -17 -50 -25 -74 -37 -110 -55 -164 -82 -41 -122 -61 -182 -91 -272 -136 -68 -34 -17 -50 -25 -74 -37 -110 -55 -164 -82 -41 -122 -61 -182 -91 -272 -136 -68 -34 -17 -50 \n"
          ],
          "name": "stdout"
        }
      ]
    },
    {
      "cell_type": "markdown",
      "metadata": {
        "id": "E9iHHrUTq4Zr"
      },
      "source": [
        "We have not found a pattern between the cycles and the negative values of n."
      ]
    },
    {
      "cell_type": "markdown",
      "metadata": {
        "id": "4WdihyxMltct"
      },
      "source": [
        "## Dropping time\n",
        "The \"Dropping time\" function $\\sigma(n)$ is the number of steps it takes for the Collatz sequence starting with $n$ to drop to a smaller number than the initial number."
      ]
    },
    {
      "cell_type": "code",
      "metadata": {
        "id": "XBUHiK_J139c"
      },
      "source": [
        "def sigma(x):\n",
        "  if x == 1:\n",
        "    return \"Undefined\"\n",
        "  tracker = x #Tracks the most recent element of the sequence starting with x\n",
        "  steps = 0\n",
        "  while tracker >= x: #Iterates the Collatz function until the sequence drops below x\n",
        "    steps = steps + 1\n",
        "    if tracker %2 == 0:\n",
        "      tracker = tracker//2\n",
        "    else:\n",
        "      tracker = 3*tracker + 1\n",
        "  return steps"
      ],
      "execution_count": null,
      "outputs": []
    },
    {
      "cell_type": "markdown",
      "metadata": {
        "id": "yQKr1eGtCGEF"
      },
      "source": [
        "Now that we have a function to calculate dropping time, we can find some connections between $\\sigma(n)$ and the value of $n$ mod 8, mod 16, etc. Clearly, if $n$ is even, then the stopping time is equal to 1, so we only need to examine the odd remainders."
      ]
    },
    {
      "cell_type": "code",
      "metadata": {
        "id": "-QJf9NPUAfZ7",
        "colab": {
          "base_uri": "https://localhost:8080/"
        },
        "outputId": "3a2d70da-bb9c-48f3-ea02-9e60e2ce92e4"
      },
      "source": [
        "def Mod8(residue): #Residue should be an integer between 0 and 7, and returns a list of values of sigma(n), where n%8 == residue\n",
        "  L_1=[]\n",
        "  for s in range(residue,1000,8): \n",
        "    L_1.append(sigma(s))\n",
        "  return L_1\n",
        "for i in range(1,8,2):\n",
        "  print(\"Dropping times for values of n with remainder {} mod 8\".format(i))\n",
        "  print(Mod8(i))"
      ],
      "execution_count": null,
      "outputs": [
        {
          "output_type": "stream",
          "text": [
            "Dropping times for values of n with remainder 1 mod 8\n",
            "['Undefined', 3, 3, 3, 3, 3, 3, 3, 3, 3, 3, 3, 3, 3, 3, 3, 3, 3, 3, 3, 3, 3, 3, 3, 3, 3, 3, 3, 3, 3, 3, 3, 3, 3, 3, 3, 3, 3, 3, 3, 3, 3, 3, 3, 3, 3, 3, 3, 3, 3, 3, 3, 3, 3, 3, 3, 3, 3, 3, 3, 3, 3, 3, 3, 3, 3, 3, 3, 3, 3, 3, 3, 3, 3, 3, 3, 3, 3, 3, 3, 3, 3, 3, 3, 3, 3, 3, 3, 3, 3, 3, 3, 3, 3, 3, 3, 3, 3, 3, 3, 3, 3, 3, 3, 3, 3, 3, 3, 3, 3, 3, 3, 3, 3, 3, 3, 3, 3, 3, 3, 3, 3, 3, 3, 3]\n",
            "Dropping times for values of n with remainder 3 mod 8\n",
            "[6, 8, 6, 96, 6, 8, 6, 11, 6, 8, 6, 73, 6, 8, 6, 13, 6, 8, 6, 65, 6, 8, 6, 11, 6, 8, 6, 13, 6, 8, 6, 44, 6, 8, 6, 39, 6, 8, 6, 11, 6, 8, 6, 16, 6, 8, 6, 13, 6, 8, 6, 24, 6, 8, 6, 11, 6, 8, 6, 13, 6, 8, 6, 16, 6, 8, 6, 21, 6, 8, 6, 11, 6, 8, 6, 26, 6, 8, 6, 13, 6, 8, 6, 39, 6, 8, 6, 11, 6, 8, 6, 13, 6, 8, 6, 32, 6, 8, 6, 44, 6, 8, 6, 11, 6, 8, 6, 26, 6, 8, 6, 13, 6, 8, 6, 16, 6, 8, 6, 11, 6, 8, 6, 13, 6]\n",
            "Dropping times for values of n with remainder 5 mod 8\n",
            "[3, 3, 3, 3, 3, 3, 3, 3, 3, 3, 3, 3, 3, 3, 3, 3, 3, 3, 3, 3, 3, 3, 3, 3, 3, 3, 3, 3, 3, 3, 3, 3, 3, 3, 3, 3, 3, 3, 3, 3, 3, 3, 3, 3, 3, 3, 3, 3, 3, 3, 3, 3, 3, 3, 3, 3, 3, 3, 3, 3, 3, 3, 3, 3, 3, 3, 3, 3, 3, 3, 3, 3, 3, 3, 3, 3, 3, 3, 3, 3, 3, 3, 3, 3, 3, 3, 3, 3, 3, 3, 3, 3, 3, 3, 3, 3, 3, 3, 3, 3, 3, 3, 3, 3, 3, 3, 3, 3, 3, 3, 3, 3, 3, 3, 3, 3, 3, 3, 3, 3, 3, 3, 3, 3, 3]\n",
            "Dropping times for values of n with remainder 7 mod 8\n",
            "[11, 11, 8, 91, 13, 88, 8, 88, 83, 13, 8, 13, 68, 50, 8, 24, 11, 11, 8, 34, 47, 13, 8, 21, 13, 21, 8, 50, 19, 32, 8, 21, 11, 11, 8, 16, 13, 21, 8, 34, 34, 13, 8, 13, 26, 16, 8, 19, 11, 11, 8, 24, 16, 13, 8, 65, 13, 19, 8, 26, 32, 44, 8, 29, 11, 11, 8, 21, 13, 26, 8, 16, 16, 13, 8, 13, 19, 21, 8, 37, 11, 11, 8, 63, 21, 13, 8, 132, 13, 21, 8, 16, 39, 34, 8, 26, 11, 11, 8, 21, 13, 16, 8, 24, 24, 13, 8, 13, 57, 19, 8, 39, 11, 11, 8, 60, 19, 13, 8, 34, 13, 16, 8, 42, 16]\n"
          ],
          "name": "stdout"
        }
      ]
    },
    {
      "cell_type": "code",
      "metadata": {
        "id": "LWBvJGHBBwup",
        "colab": {
          "base_uri": "https://localhost:8080/"
        },
        "outputId": "00ceaa12-3bce-4609-98a3-0b48f2c03db1"
      },
      "source": [
        "def Mod16(residue): #Residue should be an integer between 0 and 15, and returns a list of values of sigma(n), where n%16 == residue\n",
        "  L_1=[]\n",
        "  for s in range(residue,1000,16): \n",
        "    L_1.append(sigma(s))\n",
        "  return L_1\n",
        "for i in range(1,16,2):\n",
        "  print(\"Dropping times for values of n with remainder {} mod 16\".format(i))\n",
        "  print(Mod16(i))"
      ],
      "execution_count": null,
      "outputs": [
        {
          "output_type": "stream",
          "text": [
            "Dropping times for values of n with remainder 1 mod 16\n",
            "['Undefined', 3, 3, 3, 3, 3, 3, 3, 3, 3, 3, 3, 3, 3, 3, 3, 3, 3, 3, 3, 3, 3, 3, 3, 3, 3, 3, 3, 3, 3, 3, 3, 3, 3, 3, 3, 3, 3, 3, 3, 3, 3, 3, 3, 3, 3, 3, 3, 3, 3, 3, 3, 3, 3, 3, 3, 3, 3, 3, 3, 3, 3, 3]\n",
            "Dropping times for values of n with remainder 3 mod 16\n",
            "[6, 6, 6, 6, 6, 6, 6, 6, 6, 6, 6, 6, 6, 6, 6, 6, 6, 6, 6, 6, 6, 6, 6, 6, 6, 6, 6, 6, 6, 6, 6, 6, 6, 6, 6, 6, 6, 6, 6, 6, 6, 6, 6, 6, 6, 6, 6, 6, 6, 6, 6, 6, 6, 6, 6, 6, 6, 6, 6, 6, 6, 6, 6]\n",
            "Dropping times for values of n with remainder 5 mod 16\n",
            "[3, 3, 3, 3, 3, 3, 3, 3, 3, 3, 3, 3, 3, 3, 3, 3, 3, 3, 3, 3, 3, 3, 3, 3, 3, 3, 3, 3, 3, 3, 3, 3, 3, 3, 3, 3, 3, 3, 3, 3, 3, 3, 3, 3, 3, 3, 3, 3, 3, 3, 3, 3, 3, 3, 3, 3, 3, 3, 3, 3, 3, 3, 3]\n",
            "Dropping times for values of n with remainder 7 mod 16\n",
            "[11, 8, 13, 8, 83, 8, 68, 8, 11, 8, 47, 8, 13, 8, 19, 8, 11, 8, 13, 8, 34, 8, 26, 8, 11, 8, 16, 8, 13, 8, 32, 8, 11, 8, 13, 8, 16, 8, 19, 8, 11, 8, 21, 8, 13, 8, 39, 8, 11, 8, 13, 8, 24, 8, 57, 8, 11, 8, 19, 8, 13, 8, 16]\n",
            "Dropping times for values of n with remainder 9 mod 16\n",
            "[3, 3, 3, 3, 3, 3, 3, 3, 3, 3, 3, 3, 3, 3, 3, 3, 3, 3, 3, 3, 3, 3, 3, 3, 3, 3, 3, 3, 3, 3, 3, 3, 3, 3, 3, 3, 3, 3, 3, 3, 3, 3, 3, 3, 3, 3, 3, 3, 3, 3, 3, 3, 3, 3, 3, 3, 3, 3, 3, 3, 3, 3]\n",
            "Dropping times for values of n with remainder 11 mod 16\n",
            "[8, 96, 8, 11, 8, 73, 8, 13, 8, 65, 8, 11, 8, 13, 8, 44, 8, 39, 8, 11, 8, 16, 8, 13, 8, 24, 8, 11, 8, 13, 8, 16, 8, 21, 8, 11, 8, 26, 8, 13, 8, 39, 8, 11, 8, 13, 8, 32, 8, 44, 8, 11, 8, 26, 8, 13, 8, 16, 8, 11, 8, 13]\n",
            "Dropping times for values of n with remainder 13 mod 16\n",
            "[3, 3, 3, 3, 3, 3, 3, 3, 3, 3, 3, 3, 3, 3, 3, 3, 3, 3, 3, 3, 3, 3, 3, 3, 3, 3, 3, 3, 3, 3, 3, 3, 3, 3, 3, 3, 3, 3, 3, 3, 3, 3, 3, 3, 3, 3, 3, 3, 3, 3, 3, 3, 3, 3, 3, 3, 3, 3, 3, 3, 3, 3]\n",
            "Dropping times for values of n with remainder 15 mod 16\n",
            "[11, 91, 88, 88, 13, 13, 50, 24, 11, 34, 13, 21, 21, 50, 32, 21, 11, 16, 21, 34, 13, 13, 16, 19, 11, 24, 13, 65, 19, 26, 44, 29, 11, 21, 26, 16, 13, 13, 21, 37, 11, 63, 13, 132, 21, 16, 34, 26, 11, 21, 16, 24, 13, 13, 19, 39, 11, 60, 13, 34, 16, 42]\n"
          ],
          "name": "stdout"
        }
      ]
    },
    {
      "cell_type": "code",
      "metadata": {
        "id": "9-3TCOLiSmXj",
        "colab": {
          "base_uri": "https://localhost:8080/"
        },
        "outputId": "88123f5c-ff3e-4820-fb01-46880567170e"
      },
      "source": [
        "def Mod32(residue): #Residue should be an integer between 0 and 31, and returns a list of values of sigma(n), where n%32 == residue\n",
        "  L_1=[]\n",
        "  for s in range(residue,1000,32): \n",
        "    L_1.append(sigma(s))\n",
        "  return L_1\n",
        "for i in range(1,32,2):\n",
        "  print(\"Dropping times for values of n with remainder {} mod 32\".format(i))\n",
        "  print(Mod32(i))"
      ],
      "execution_count": null,
      "outputs": [
        {
          "output_type": "stream",
          "text": [
            "Dropping times for values of n with remainder 1 mod 32\n",
            "['Undefined', 3, 3, 3, 3, 3, 3, 3, 3, 3, 3, 3, 3, 3, 3, 3, 3, 3, 3, 3, 3, 3, 3, 3, 3, 3, 3, 3, 3, 3, 3, 3]\n",
            "Dropping times for values of n with remainder 3 mod 32\n",
            "[6, 6, 6, 6, 6, 6, 6, 6, 6, 6, 6, 6, 6, 6, 6, 6, 6, 6, 6, 6, 6, 6, 6, 6, 6, 6, 6, 6, 6, 6, 6, 6]\n",
            "Dropping times for values of n with remainder 5 mod 32\n",
            "[3, 3, 3, 3, 3, 3, 3, 3, 3, 3, 3, 3, 3, 3, 3, 3, 3, 3, 3, 3, 3, 3, 3, 3, 3, 3, 3, 3, 3, 3, 3, 3]\n",
            "Dropping times for values of n with remainder 7 mod 32\n",
            "[11, 13, 83, 68, 11, 47, 13, 19, 11, 13, 34, 26, 11, 16, 13, 32, 11, 13, 16, 19, 11, 21, 13, 39, 11, 13, 24, 57, 11, 19, 13, 16]\n",
            "Dropping times for values of n with remainder 9 mod 32\n",
            "[3, 3, 3, 3, 3, 3, 3, 3, 3, 3, 3, 3, 3, 3, 3, 3, 3, 3, 3, 3, 3, 3, 3, 3, 3, 3, 3, 3, 3, 3, 3]\n",
            "Dropping times for values of n with remainder 11 mod 32\n",
            "[8, 8, 8, 8, 8, 8, 8, 8, 8, 8, 8, 8, 8, 8, 8, 8, 8, 8, 8, 8, 8, 8, 8, 8, 8, 8, 8, 8, 8, 8, 8]\n",
            "Dropping times for values of n with remainder 13 mod 32\n",
            "[3, 3, 3, 3, 3, 3, 3, 3, 3, 3, 3, 3, 3, 3, 3, 3, 3, 3, 3, 3, 3, 3, 3, 3, 3, 3, 3, 3, 3, 3, 3]\n",
            "Dropping times for values of n with remainder 15 mod 32\n",
            "[11, 88, 13, 50, 11, 13, 21, 32, 11, 21, 13, 16, 11, 13, 19, 44, 11, 26, 13, 21, 11, 13, 21, 34, 11, 16, 13, 19, 11, 13, 16]\n",
            "Dropping times for values of n with remainder 17 mod 32\n",
            "[3, 3, 3, 3, 3, 3, 3, 3, 3, 3, 3, 3, 3, 3, 3, 3, 3, 3, 3, 3, 3, 3, 3, 3, 3, 3, 3, 3, 3, 3, 3]\n",
            "Dropping times for values of n with remainder 19 mod 32\n",
            "[6, 6, 6, 6, 6, 6, 6, 6, 6, 6, 6, 6, 6, 6, 6, 6, 6, 6, 6, 6, 6, 6, 6, 6, 6, 6, 6, 6, 6, 6, 6]\n",
            "Dropping times for values of n with remainder 21 mod 32\n",
            "[3, 3, 3, 3, 3, 3, 3, 3, 3, 3, 3, 3, 3, 3, 3, 3, 3, 3, 3, 3, 3, 3, 3, 3, 3, 3, 3, 3, 3, 3, 3]\n",
            "Dropping times for values of n with remainder 23 mod 32\n",
            "[8, 8, 8, 8, 8, 8, 8, 8, 8, 8, 8, 8, 8, 8, 8, 8, 8, 8, 8, 8, 8, 8, 8, 8, 8, 8, 8, 8, 8, 8, 8]\n",
            "Dropping times for values of n with remainder 25 mod 32\n",
            "[3, 3, 3, 3, 3, 3, 3, 3, 3, 3, 3, 3, 3, 3, 3, 3, 3, 3, 3, 3, 3, 3, 3, 3, 3, 3, 3, 3, 3, 3, 3]\n",
            "Dropping times for values of n with remainder 27 mod 32\n",
            "[96, 11, 73, 13, 65, 11, 13, 44, 39, 11, 16, 13, 24, 11, 13, 16, 21, 11, 26, 13, 39, 11, 13, 32, 44, 11, 26, 13, 16, 11, 13]\n",
            "Dropping times for values of n with remainder 29 mod 32\n",
            "[3, 3, 3, 3, 3, 3, 3, 3, 3, 3, 3, 3, 3, 3, 3, 3, 3, 3, 3, 3, 3, 3, 3, 3, 3, 3, 3, 3, 3, 3, 3]\n",
            "Dropping times for values of n with remainder 31 mod 32\n",
            "[91, 88, 13, 24, 34, 21, 50, 21, 16, 34, 13, 19, 24, 65, 26, 29, 21, 16, 13, 37, 63, 132, 16, 26, 21, 24, 13, 39, 60, 34, 42]\n"
          ],
          "name": "stdout"
        }
      ]
    },
    {
      "cell_type": "markdown",
      "metadata": {
        "id": "aGedssqNo6_d"
      },
      "source": [
        "We can see that certain remainders $\\mod 2^k$ will always drop after a fixed number of iterations, e.g., all numbers of the form $4k + 1$ drop after 3 iterations. To see why this is true, we compute \n",
        "$$4k + 1 \\to 12k+4 \\to 6k + 2 \\to 3k + 1$$\n",
        "so as long as $k > 0$, the sequence will drop after 3 steps. \n",
        "\n",
        "Now, consider the dropping times for numbers of the form $8k + 3$. We call the sequence of dropping times obtained the \"dropping sequence for $8k+3$\". We can see that this sequence is of the form $6,8,6,x_1,6,8,6,x_2, \\dots$, where $x_i$ is some integer. This sequence can be decomposed into a \"regular part\" and an \"irregular part\" by examining the dropping sequences for $16k + 3$ and $16k + 11$, which are respectively the even and odd terms of the dropping sequence for $8k+ 3$. This tells us that numbers of the form $16k + 3$ always drop after $6$ terms, which can be shown using a similar computation as in the previous paragraph. The dropping sequence for $16k + 11$ is then given by $8, x_1, 8, x_2, \\dots$. We can do the same trick and split the droppng sequence for $16k + 11$ into a \"regular\" and \"irregular\" part by examining the dropping sequences for $32k + 11$ and $32k + 27$. The dropping sequence for $32k + 11$ is $8,8,8, \\dots$, and we can once again manually check that numbers of the form $32k + 11$ will always drop after 8 steps. \n",
        "\n",
        "Examining the dropping sequence for $32k + 27$, we obtain the sequence $96,11,73,13,65,11, \\dots$. Looking at many terms of the sequence, we can again find signs of regularity; for example, the 2nd, 6th, 10th, etc. terms of the sequence are all 11. This suggests that if we continue \"splitting\" these sequences by looking at dropping sequences for $2^k + j$, for higher and higher values of $k$, they would continue to decompose into regular and irregular subsequences. This inspires us to make the following conjecture:\n",
        "\n",
        "---\n",
        "\n",
        "Conjecture: Let $n \\geq 2$ be an integer. There then exists an integer $d$ such that $\\sigma(n) = \\sigma(m)$ if $n \\equiv m \\pmod{2^d}$ and $m \\geq 2$. \n",
        "\n",
        "---\n",
        "\n",
        "For example, if $n$ is even, we may simply take $d = 1$, because all even numbers have dropping time 1. The previous discussion shows that if $n = 5$, we may take $d = 2$, because all integers congruent to $1 \\pmod{4}$ have dropping time 2, and if $n = 11$, we can take $ d = 5$, because all integers congruent to $11 \\pmod{32}$ have dropping time 8. Using the process outlined above, we can search for values of $d$ for specific $n$ by increasing $d$ and seeing if the dropping sequence for $2^d \\cdot k + n$ becomes constant, but proving or disproving this conjecture in general seems quite difficult."
      ]
    },
    {
      "cell_type": "markdown",
      "metadata": {
        "id": "vrSdb8xp6r-P"
      },
      "source": [
        "##Changing the rules\n",
        "\n",
        "Small changes to the two rules that describe the Collatz function can result in dramatic changes to the overall behavior of the function. For example, if we replace $n$ by $3n + 5$ when $n$ is odd, we find that there appear to be six distinct loops that all positive integers eventually reach, rather than the single loop we observe with the usual Collatz map. Instead of writing a brand new function for each new ruleset we wished to investigate, we wrote a function that could take in a starting value and a list of rules, and output the corresponding sequence.\n",
        "\n",
        "The `modified_collatz` function, and the other functions defined below, take a parameter called `ruleset`, which is expected to be a list of two-tuples $[(a_0, b_0), \\dots, (a_{k-1},b_{k-1})]$. Given $n$, it replaces $n$ by $a_i \\cdot n + b_i$, where $i$ is the value of $n$ modulo $k$. For example, the behavior of the usual Collatz function is captured by the list $[(1/2,0), (3,1)]$."
      ]
    },
    {
      "cell_type": "code",
      "metadata": {
        "colab": {
          "base_uri": "https://localhost:8080/"
        },
        "id": "Y9QmfnaVN6ik",
        "outputId": "f28af072-ce1d-4abd-c8d4-7185b4c6e15c"
      },
      "source": [
        "def modified_collatz(n, ruleset = [(1/2,0), (3,1)], iterations = 200):\n",
        "  '''\n",
        "  The default value for ruleset is the list [(1/2,0), (3,1)], which gives the usual collatz function. \n",
        "  By default, len(ruleset)=2, so if n%2 == 0, we multiply n by 1/2 and add 0, and if n%2 == 1, we multiply n by 3 and add 1.\n",
        "  '''\n",
        "  arity = len(ruleset) #The modulus it checks n against to determine which rule to apply\n",
        "  for i in range(iterations): \n",
        "    print(n)\n",
        "    rem = n%arity #Picks out the appropriate rule from ruleset, based on the value of n modulo arity\n",
        "    n = int(ruleset[rem][0]*n + ruleset[rem][1]) \n",
        "\n",
        "def update(n,ruleset):\n",
        "  '''\n",
        "  Given a starting value and a list of rules, returns the next number in the sequence\n",
        "  '''\n",
        "  arity = len(ruleset)\n",
        "  rem = n%arity\n",
        "  return int(ruleset[rem][0]*n + ruleset[rem][1])\n",
        "\n",
        "modified_collatz(31, iterations = 110)\n",
        "\n",
        "\n"
      ],
      "execution_count": null,
      "outputs": [
        {
          "output_type": "stream",
          "text": [
            "31\n",
            "94\n",
            "47\n",
            "142\n",
            "71\n",
            "214\n",
            "107\n",
            "322\n",
            "161\n",
            "484\n",
            "242\n",
            "121\n",
            "364\n",
            "182\n",
            "91\n",
            "274\n",
            "137\n",
            "412\n",
            "206\n",
            "103\n",
            "310\n",
            "155\n",
            "466\n",
            "233\n",
            "700\n",
            "350\n",
            "175\n",
            "526\n",
            "263\n",
            "790\n",
            "395\n",
            "1186\n",
            "593\n",
            "1780\n",
            "890\n",
            "445\n",
            "1336\n",
            "668\n",
            "334\n",
            "167\n",
            "502\n",
            "251\n",
            "754\n",
            "377\n",
            "1132\n",
            "566\n",
            "283\n",
            "850\n",
            "425\n",
            "1276\n",
            "638\n",
            "319\n",
            "958\n",
            "479\n",
            "1438\n",
            "719\n",
            "2158\n",
            "1079\n",
            "3238\n",
            "1619\n",
            "4858\n",
            "2429\n",
            "7288\n",
            "3644\n",
            "1822\n",
            "911\n",
            "2734\n",
            "1367\n",
            "4102\n",
            "2051\n",
            "6154\n",
            "3077\n",
            "9232\n",
            "4616\n",
            "2308\n",
            "1154\n",
            "577\n",
            "1732\n",
            "866\n",
            "433\n",
            "1300\n",
            "650\n",
            "325\n",
            "976\n",
            "488\n",
            "244\n",
            "122\n",
            "61\n",
            "184\n",
            "92\n",
            "46\n",
            "23\n",
            "70\n",
            "35\n",
            "106\n",
            "53\n",
            "160\n",
            "80\n",
            "40\n",
            "20\n",
            "10\n",
            "5\n",
            "16\n",
            "8\n",
            "4\n",
            "2\n",
            "1\n",
            "4\n",
            "2\n",
            "1\n"
          ],
          "name": "stdout"
        }
      ]
    },
    {
      "cell_type": "markdown",
      "metadata": {
        "id": "oiWvvLcwA1Lb"
      },
      "source": [
        "Now that we have a system in place which makes it simple to alter the rules of the Collatz function and observe how the behavior changes, we can search for rulesets which have particularly interesting behaviors. As what constitutes an \"interesting behavior\" is subjective, we focused on investigating the loops that arise with a given ruleset. Here, if $f$ is a modified Collatz function, we define a \"loop\" to be the sequence of values obtained starting with $n$, whenever $f^k(n) = n$ for some $k > 1$. We make the convention that we present loops so that the smallest element of the loop is the first listed, and we call this smallest element the starting value of the loop.\n",
        "\n",
        "The Collatz conjecture states that no Collatz sequence diverges to infinity, and there is only a single loop which all positive integers eventually enter. Understanding how changes to the ruleset change the number and size of the loops produced would shed some light on why the usual Collatz sequence only has a single loop. The functions below are meant to aid in collecting statistics about the loops coming from different rulesets.\n",
        "\n"
      ]
    },
    {
      "cell_type": "code",
      "metadata": {
        "id": "RqNVfIESZIoi"
      },
      "source": [
        "def modified_collatz_loop_finder(n,ruleset,max_iterations = 1000):\n",
        "  '''\n",
        "  If the collatz sequence beginning with n results in a loop where n is the smallest element, this will return the loop found.\n",
        "  If the sequence enters a loop which has a smaller element than n, this will return nothing.\n",
        "  If it is inconclusive if the sequence enters a loop, this prints a message stating so.\n",
        "  '''\n",
        "  elements = [n] #The list of elements reached starting from n\n",
        "  tracker = update(n,ruleset) #Tracks the latest value in the sequence\n",
        "  iterations = 0\n",
        "  while tracker not in elements and tracker > n and iterations < max_iterations: \n",
        "    #Terminates if one of three conditions are met:\n",
        "    #1. The sequence repeats a value\n",
        "    #2. The sequence decreases below the starting value n\n",
        "    #3. The length of the sequence exceeds a maximum size\n",
        "    #Each iteration updates tracker and appends it to the list of elements\n",
        "    elements.append(tracker)\n",
        "    iterations += 1\n",
        "    tracker = update(tracker,ruleset)\n",
        "  if iterations == max_iterations: #This means that it is inconclusive if the sequence enters a loop or not.\n",
        "    print(ruleset)\n",
        "    raise ValueError(\"Starting with {} produces either a very long sequence before looping, or an infinite ascending chain. Try raising max_iterations, or printing the sequence to see if it diverges.\".format(n))\n",
        "  elif tracker == n: #This means that n is the smallest element of a loop.\n",
        "    return len(elements), elements\n",
        "\n",
        "def num_loops_finder(ruleset, max_start = 1000, max_iterations = 1000): \n",
        "  '''\n",
        "  Finds all loops that have a starting value less than max_start and length less than max_iterations, and returns the number of loops found. \n",
        "  '''\n",
        "  num_loops = 0 #Keeps track of how many loops we find.\n",
        "  for i in range(1,max_start): #Test all starting values below max_start\n",
        "    if modified_collatz_loop_finder(i,ruleset,max_iterations) != None: #If we find a new loop\n",
        "      num_loops += 1\n",
        "  return num_loops\n",
        "\n",
        "def longest_loop_length(ruleset, max_start = 1000,max_iterations = 1000):\n",
        "  '''\n",
        "  Finds all loops that have a starting value less than max_start and length less than max_iterations, and returns the length of the longest loop found.\n",
        "  '''\n",
        "  longest_length = 0 #Keeps track of the longest loop we fine\n",
        "  for i in range(1,max_start): #Test all starting values below max_start\n",
        "    if modified_collatz_loop_finder(i,ruleset,max_iterations) != None: #If we find a new loop\n",
        "      longest_length = max(longest_length, modified_collatz_loop_finder(i,ruleset,max_iterations)[0]) #If the loop we find is longer than the previous longest loop, record the length\n",
        "  return longest_length"
      ],
      "execution_count": null,
      "outputs": []
    },
    {
      "cell_type": "markdown",
      "metadata": {
        "id": "_b_WDWltNcqd"
      },
      "source": [
        "As an example, we consider a modification to the rules of the Collatz function, where we instead choose what to do based on the value of $n$ mod 3. Specifically, we have\n",
        "$$f(n) = \\begin{cases} n/3 \\text{ if } n \\equiv 0 \\pmod{3} \\\\ 4n + 2 \\text{ if } n \\equiv 1 \\pmod{3} \\\\ 4n+1 \\text{ if } n\\equiv 2 \\pmod{3} \\end{cases} $$\n",
        "\n",
        "Below, we collect some statistice about loops found by starting under 10000, and print out all the loops found."
      ]
    },
    {
      "cell_type": "code",
      "metadata": {
        "colab": {
          "base_uri": "https://localhost:8080/"
        },
        "id": "ZWhZhPNwNwEI",
        "outputId": "57936734-0351-4f8f-828e-d9fbfb7f8bb3"
      },
      "source": [
        "rules_list = [(1/3,0),(4,2), (4,1)]\n",
        "print(\"number of loops starting under 10000 is\", num_loops_finder(rules_list, 10000, 400))\n",
        "print(\"longest loop length starting under 10000 is\", longest_loop_length(rules_list, 10000, 400))\n",
        "\n",
        "for i in range(1,10000): #test all starting values between 1 and 10000, and print out all the loops found\n",
        "  if modified_collatz_loop_finder(i,rules_list,400) != None:\n",
        "    print(modified_collatz_loop_finder(i,rules_list,400))"
      ],
      "execution_count": null,
      "outputs": [
        {
          "output_type": "stream",
          "text": [
            "number of loops starting under 10000 is 2\n",
            "longest loop length starting under 10000 is 16\n",
            "(5, [1, 6, 2, 9, 3])\n",
            "(16, [7, 30, 10, 42, 14, 57, 19, 78, 26, 105, 35, 141, 47, 189, 63, 21])\n"
          ],
          "name": "stdout"
        }
      ]
    },
    {
      "cell_type": "markdown",
      "metadata": {
        "id": "6gRiAXg6OUq_"
      },
      "source": [
        "For a more involved example, we can search for interesting loop behavior over a collection of maps of the form \n",
        "$$C_k(n) = \\begin{cases} n/2 \\text{ if } n \\equiv 0 \\pmod{2} \\\\ 3n+k \\text{ if } n \\equiv 1 \\pmod{2} \\end{cases} $$\n",
        "where $k$ is an odd integer. Using this notation, the usual Collatz function is just $C_1$.  Specifically, we will look for rulesets which result in one of three things:\n",
        "1. Exactly one loop\n",
        "2. More than 30 distinct loops\n",
        "3. A loop with length greater than 400\n",
        "\n",
        "We can find values of $k$ satisfying the above fairly easily using the functions defined earlier. In all cases, we check all starting values up to 10000, so it is possible that for a given $k$, there exist more loops which have a starting value greater than 10000. We first try to find the values of $k$ which appear to only have one loop."
      ]
    },
    {
      "cell_type": "code",
      "metadata": {
        "id": "ZYOPK-bBoxj3",
        "colab": {
          "base_uri": "https://localhost:8080/"
        },
        "outputId": "ba76c780-a1ee-41e3-b017-8ebe9ac61c2e"
      },
      "source": [
        "print(\"These have exactly one loop:\")\n",
        "for k in range(1,1000,2): #testing rulesets with all odd integers between 1 and 1000\n",
        "  if num_loops_finder([(1/2,0), (3,k)], 10000, 1000) == 1: # Evaluates to True if there is only one loop among starting values below 10000\n",
        "    print(\"k = {} has exactly one loop\".format(k))"
      ],
      "execution_count": null,
      "outputs": [
        {
          "output_type": "stream",
          "text": [
            "These have exactly one loop:\n",
            "k = 1 has exactly one loop\n",
            "k = 3 has exactly one loop\n",
            "k = 9 has exactly one loop\n",
            "k = 27 has exactly one loop\n",
            "k = 81 has exactly one loop\n",
            "k = 243 has exactly one loop\n",
            "k = 729 has exactly one loop\n"
          ],
          "name": "stdout"
        }
      ]
    },
    {
      "cell_type": "markdown",
      "metadata": {
        "id": "stRs1xixo1DZ"
      },
      "source": [
        "\n",
        "The values of $k$ we found which have exactly one loop suggest that it is precisely the powers of 3 which result in a unique loop. Some thought reveals why powers of 3 behave in the same way: Let $f = C_{3^m}$ be defined as above, and let $n \\in \\mathbb{N}$, with $n = 3^kj$, where $GCD(3,j) = 1$. If $k < m$, then we will have \n",
        "$$f(n) = 3n + 3^m = 3^{k+1}j + 3^m = 3^{k+1}j'$$\n",
        "where $j' = j + 3^{m-k-1}$ is relatively prime to 3, so applying $f$ to $n$ increased the highest power of $3$ dividing $n$ by one. Then, if $n = 3^mj$, we have \n",
        "$$ f(n) = 3n + 3^m = 3^{m+1}j + 3^m = 3^m(3j + 1) $$\n",
        "so we simply obtain the usual Collatz function, with an extra factor of 3^m. Therefore, beyond the first few terms, the behavior of $C_{3^m}$ will be identival to the behavior of the regular Collatz function $C_1$, so we expect the number of loops to be the same. Indeed, we can see below that all values of $k$ of the form $5\\cdot 3^i$ appear to have 6 distinct loops, which we would expect given the previous discussion. "
      ]
    },
    {
      "cell_type": "code",
      "metadata": {
        "id": "3PlqQ4_qo4_4",
        "colab": {
          "base_uri": "https://localhost:8080/"
        },
        "outputId": "f7a14f4d-7a1c-4fed-fbb6-ea1a07976443"
      },
      "source": [
        "for i in range(5):\n",
        "  print(\"5*3**{} has {} loops\".format(i,num_loops_finder([(1/2,0), (3,5*3**i)], 100000, 1000)))"
      ],
      "execution_count": null,
      "outputs": [
        {
          "output_type": "stream",
          "text": [
            "5*3**0 has 6 loops\n",
            "5*3**1 has 6 loops\n",
            "5*3**2 has 6 loops\n",
            "5*3**3 has 6 loops\n",
            "5*3**4 has 6 loops\n"
          ],
          "name": "stdout"
        }
      ]
    },
    {
      "cell_type": "markdown",
      "metadata": {
        "id": "clmRZPEWo9io"
      },
      "source": [
        "Now, we search for values of $k$ which have many loops, or particularly long loops."
      ]
    },
    {
      "cell_type": "code",
      "metadata": {
        "id": "K4TpLRVMpDL0"
      },
      "source": [
        "print(\"These have lots of loops:\")\n",
        "for k in range(1,1000,2): #testing rulesets with all odd integers between 1 and 1000\n",
        "  if num_loops_finder([(1/2,0), (3,k)], 10000, 1000) > 30: #Evaluates to true if there are at least 30 loops with starting values under 10000\n",
        "    print(\"k = {} has {} loops\".format(k,num_loops_finder([(1/2,0), (3,k)], 10000, 1000)))\n"
      ],
      "execution_count": null,
      "outputs": []
    },
    {
      "cell_type": "code",
      "metadata": {
        "id": "HEhwFgq4pGKl"
      },
      "source": [
        "print(\"These have long loops:\")\n",
        "for k in range(1,1000,2): #testing rulesets with all odd integers between 1 and 1000\n",
        "  if longest_loop_length([(1/2,0), (3,k)], 10000, 1000) > 400: #Evaluates to true if there is a loop with length greater than 400 starting under 10000\n",
        "    print(\"k = {} has a loop of length {}\".format(k,longest_loop_length([(1/2,0), (3,k)], 10000, 1000)))"
      ],
      "execution_count": null,
      "outputs": []
    },
    {
      "cell_type": "markdown",
      "metadata": {
        "id": "NjZYX2lopJaw"
      },
      "source": [
        "Now that we have found some values of $k$ which have many loops, or particularly long loops, we can take a closer look by listing all the loops found. This also allows us to search up to a much higher maximum starting value of 1,000,000, which allows us to be more confident that we have found all the loops there are."
      ]
    },
    {
      "cell_type": "code",
      "metadata": {
        "id": "_XaPwbfRpMnx"
      },
      "source": [
        "print('Loops for k = 499:')\n",
        "\n",
        "for i in range(1,1000000): #Find and print all loops with starting value less than 1000000\n",
        "  if modified_collatz_loop_finder(i,[(1/2,0), (3,499)],1000) != None:\n",
        "    print(modified_collatz_loop_finder(i,[(1/2,0), (3,499)],1000))"
      ],
      "execution_count": null,
      "outputs": []
    },
    {
      "cell_type": "code",
      "metadata": {
        "id": "bv4sAo5XpQUl"
      },
      "source": [
        "print('Loops for k = 781:')\n",
        "\n",
        "for i in range(1,1000000): #Find and print all loops with starting value less than 1000000\n",
        "  if modified_collatz_loop_finder(i,[(1/2,0), (3,781)],1000) != None:\n",
        "    print(modified_collatz_loop_finder(i,[(1/2,0), (3,781)],1000))"
      ],
      "execution_count": null,
      "outputs": []
    },
    {
      "cell_type": "code",
      "metadata": {
        "id": "_BLJsTSBpUl1"
      },
      "source": [
        "print('Loops for k = 563:')\n",
        "\n",
        "for i in range(1,1000000): #Find and print all loops with starting value less than 1000000\n",
        "  if modified_collatz_loop_finder(i,[(1/2,0), (3,563)],1000) != None:\n",
        "    print(modified_collatz_loop_finder(i,[(1/2,0), (3,563)],1000))"
      ],
      "execution_count": null,
      "outputs": []
    },
    {
      "cell_type": "markdown",
      "metadata": {
        "id": "BjNONhCdppMZ"
      },
      "source": [
        "\n",
        "For the values of $k$ which have a large number of loops, we can immediately make an observation: almost all the loops for $k = 499$ have length 26 or a multiple of 26, and almost all the loops for $k = 781$ have length 15 or a multiple of 15. Investigating why these lengths are significant for these values of $k$, and if this is a common pattern for values of $k$ which have many loops, would be an interesting task for a more in depth exploration."
      ]
    },
    {
      "cell_type": "markdown",
      "metadata": {
        "id": "aUBXRCVoEqgz"
      },
      "source": [
        "## Conclusion\r\n",
        "We started by showing that for a sufficiently large n, say n=1000000, that the Collatz conjecture holds since for every positive integer n up to 1000000 the cycle {4, 2, 1} appears at some point in the infinite sequence created from n, and repeats infinitely many times once showing up. Then, we found that the infinite sequences behave differently for integers less than or equal to 0. For example n=0 will result in a trivial sequence {0, 0, 0, ...}, and depending on the negative integer n chosen, the infinite sequence will \"end\" in one of several different cycles repeated infinitely many times. In conclusion, we found that for a positive integer n greater than or equal to 2, that there exists an integer $d$ such that the following claim holds true for dropping time with respect to values satisfying the Collatz conjecture:\r\n",
        " $\\sigma(n) = \\sigma(m)$ if $n \\equiv m \\pmod{2^d}$ and $m \\geq 2$.  "
      ]
    }
  ]
}